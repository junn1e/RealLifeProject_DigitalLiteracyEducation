{
 "cells": [
  {
   "cell_type": "code",
   "execution_count": 7,
   "id": "57ccd66a-9e59-4675-9587-f729976efc68",
   "metadata": {},
   "outputs": [
    {
     "name": "stdout",
     "output_type": "stream",
     "text": [
      "{'item': [{'baseDate': '20241122', 'baseTime': '1700', 'category': 'TMP', 'fcstDate': '20241122', 'fcstTime': '1800', 'fcstValue': '6', 'nx': 59, 'ny': 123}, {'baseDate': '20241122', 'baseTime': '1700', 'category': 'UUU', 'fcstDate': '20241122', 'fcstTime': '1800', 'fcstValue': '0.9', 'nx': 59, 'ny': 123}, {'baseDate': '20241122', 'baseTime': '1700', 'category': 'VVV', 'fcstDate': '20241122', 'fcstTime': '1800', 'fcstValue': '-1.5', 'nx': 59, 'ny': 123}, {'baseDate': '20241122', 'baseTime': '1700', 'category': 'VEC', 'fcstDate': '20241122', 'fcstTime': '1800', 'fcstValue': '329', 'nx': 59, 'ny': 123}, {'baseDate': '20241122', 'baseTime': '1700', 'category': 'WSD', 'fcstDate': '20241122', 'fcstTime': '1800', 'fcstValue': '1.7', 'nx': 59, 'ny': 123}, {'baseDate': '20241122', 'baseTime': '1700', 'category': 'SKY', 'fcstDate': '20241122', 'fcstTime': '1800', 'fcstValue': '1', 'nx': 59, 'ny': 123}, {'baseDate': '20241122', 'baseTime': '1700', 'category': 'PTY', 'fcstDate': '20241122', 'fcstTime': '1800', 'fcstValue': '0', 'nx': 59, 'ny': 123}, {'baseDate': '20241122', 'baseTime': '1700', 'category': 'POP', 'fcstDate': '20241122', 'fcstTime': '1800', 'fcstValue': '0', 'nx': 59, 'ny': 123}, {'baseDate': '20241122', 'baseTime': '1700', 'category': 'WAV', 'fcstDate': '20241122', 'fcstTime': '1800', 'fcstValue': '0', 'nx': 59, 'ny': 123}, {'baseDate': '20241122', 'baseTime': '1700', 'category': 'PCP', 'fcstDate': '20241122', 'fcstTime': '1800', 'fcstValue': '강수없음', 'nx': 59, 'ny': 123}]}\n",
      "6 1.7\n"
     ]
    }
   ],
   "source": [
    "import requests\n",
    "import json\n",
    "import datetime\n",
    "\n",
    "vilage_weather_url = \"http://apis.data.go.kr/1360000/VilageFcstInfoService_2.0/getVilageFcst?\"\n",
    "\n",
    "service_key = \"HrbAZWWr61lavqhb0ppn4jEV4qAMtrysYy6HPfAF%2F0TjLrs8KRjLClSzTNwgnkbb6tCGuf8UHGx4RLbT5nZvEQ%3D%3D\"\n",
    "base_date = datetime.datetime.today().strftime(\"%Y%m%d\") \n",
    "base_time = \"1700\" # 기준 시간\n",
    "nx = \"59\"\n",
    "ny = \"123\"\n",
    "payload = \"serviceKey=\" + service_key + \"&\" + \\\n",
    "          \"dataType=json\" + \"&\" + \\\n",
    "          \"base_date=\" + base_date + \"&\" + \\\n",
    "          \"base_time=\" + base_time + \"&\" + \\\n",
    "          \"nx=\" + nx + \"&\" + \\\n",
    "          \"ny=\" + ny\n",
    "\n",
    "# 값 요청\n",
    "res = requests.get(vilage_weather_url + payload)    \n",
    "try:\n",
    "    test = res.json().get('response').get('body').get('items')\n",
    "    print(test)\n",
    "    \n",
    "    tmp = res.json().get('response').get('body').get('items').get('item')[0]['fcstValue'] #기온        \n",
    "    vec = res.json().get('response').get('body').get('items').get('item')[4]['fcstValue'] #풍향    \n",
    "    print(tmp, vec)\n",
    "    \n",
    "except:\n",
    "    print(\"날씨 정보 요청 실패 : \", res.text)"
   ]
  },
  {
   "cell_type": "markdown",
   "id": "31d8b886-9aaf-4fc1-a8f4-de14e72ffe15",
   "metadata": {},
   "source": [
    "# 미세먼지"
   ]
  },
  {
   "cell_type": "code",
   "execution_count": 3,
   "id": "db153dfc-0e4d-447c-bc87-ec3868d7d1bd",
   "metadata": {},
   "outputs": [
    {
     "name": "stdout",
     "output_type": "stream",
     "text": [
      "{'PM10': {'value': 21}, 'PM2.5': {'value': 7}}\n"
     ]
    }
   ],
   "source": [
    "import requests\n",
    "import json\n",
    "import datetime\n",
    "\n",
    "dust_url = \"http://apis.data.go.kr/B552584/ArpltnInforInqireSvc/getCtprvnRltmMesureDnsty?\"\n",
    "\n",
    "service_key = \"HrbAZWWr61lavqhb0ppn4jEV4qAMtrysYy6HPfAF%2F0TjLrs8KRjLClSzTNwgnkbb6tCGuf8UHGx4RLbT5nZvEQ%3D%3D\"\n",
    "\n",
    "payload = \"serviceKey=\" + service_key + \"&\" + \\\n",
    "          \"returnType=json\" + \"&\" + \\\n",
    "          \"sidoName=경기\" + \"&\" + \\\n",
    "          \"ver=1.0\"\n",
    "\n",
    "# pm10과 pm2.5 수치 가져오기\n",
    "res = requests.get(dust_url + payload)\n",
    "result = res.json()\n",
    "dust = dict()\n",
    "if (res.status_code == 200) & (result['response']['header']['resultCode'] == '00'):\n",
    "    dust['PM10'] = {'value' : int(result['response']['body']['items'][1]['pm10Value'])}\n",
    "    dust['PM2.5'] = {'value' : int(result['response']['body']['items'][1]['pm25Value'])}\n",
    "else:\n",
    "    print(\"미세먼지 가져오기 실패 : \", result['response']['header']['resultMsg'])\n",
    "\n",
    "print(dust)"
   ]
  },
  {
   "cell_type": "code",
   "execution_count": null,
   "id": "5820f85e-8b64-4828-9dc1-1f5507ebd49e",
   "metadata": {},
   "outputs": [],
   "source": []
  }
 ],
 "metadata": {
  "kernelspec": {
   "display_name": "Python 3 (ipykernel)",
   "language": "python",
   "name": "python3"
  },
  "language_info": {
   "codemirror_mode": {
    "name": "ipython",
    "version": 3
   },
   "file_extension": ".py",
   "mimetype": "text/x-python",
   "name": "python",
   "nbconvert_exporter": "python",
   "pygments_lexer": "ipython3",
   "version": "3.12.4"
  }
 },
 "nbformat": 4,
 "nbformat_minor": 5
}
