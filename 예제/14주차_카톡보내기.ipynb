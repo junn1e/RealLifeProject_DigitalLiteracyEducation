{
 "cells": [
  {
   "cell_type": "code",
   "execution_count": 3,
   "id": "480d0cd3-cfa1-4bdf-8280-244326f018b7",
   "metadata": {},
   "outputs": [],
   "source": [
    "import json\n",
    "import requests\n",
    "\n",
    "fileName = 'c:/anyang/kakao_token.json'\n",
    "with open(fileName, 'r') as fin:\n",
    "    tokens = json.load(fin)\n"
   ]
  },
  {
   "cell_type": "code",
   "execution_count": 4,
   "id": "fcc7bc35-9919-4c2f-8163-786a80e1d422",
   "metadata": {},
   "outputs": [
    {
     "data": {
      "text/plain": [
       "{'access_token': 'n17Up_2C4CwEI6ok1NPZaM4QwbSEIJ4CAAAAAQoqJRAAAAGTThY03JIGkKnmukNu',\n",
       " 'token_type': 'bearer',\n",
       " 'refresh_token': '9iYHZGm4x0KWw7Z1hEhwVKiT_OB1uVbmAAAAAgoqJRAAAAGTThY02JIGkKnmukNu',\n",
       " 'expires_in': 21599,\n",
       " 'scope': 'profile_image talk_message profile_nickname',\n",
       " 'refresh_token_expires_in': 5183999}"
      ]
     },
     "execution_count": 4,
     "metadata": {},
     "output_type": "execute_result"
    }
   ],
   "source": [
    "tokens"
   ]
  },
  {
   "cell_type": "code",
   "execution_count": 11,
   "id": "1d2e095e-e829-44d5-9bb7-cdf95f28dcf8",
   "metadata": {},
   "outputs": [
    {
     "name": "stdout",
     "output_type": "stream",
     "text": [
      "message sended...\n"
     ]
    }
   ],
   "source": [
    "import json\n",
    "import requests\n",
    "\n",
    "fileName = 'c:/anyang/kakao_token.json'\n",
    "with open(fileName, 'r') as fin:\n",
    "    tokens = json.load(fin)\n",
    "\n",
    "url = 'https://kapi.kakao.com/v2/api/talk/memo/default/send'\n",
    "headers = {\n",
    "        'Authorization' : 'Bearer ' + tokens['access_token']\n",
    "}\n",
    "\n",
    "data = {\n",
    "    \"template_object\" : json.dumps({\n",
    "        \"object_type\": \"text\",\n",
    "        \"text\": \"안녕하세요 오늘은 짜장면을 드세요!!\",\n",
    "        \"link\": {\n",
    "            \"web_url\": \"https://daum.net\",\n",
    "            \"mobile_web_url\": \"https://daum.net\"\n",
    "        },\n",
    "        \"button_title\": \"전화걸기\"\n",
    "    })\n",
    "}\n",
    "\n",
    "response = requests.post(url, headers=headers, data=data)\n",
    "if response.status_code == 200:\n",
    "    print('message sended...')\n",
    "else:\n",
    "    print(response)"
   ]
  },
  {
   "cell_type": "code",
   "execution_count": 14,
   "id": "8a19163f-451c-43c5-ae4e-276895bec757",
   "metadata": {},
   "outputs": [
    {
     "name": "stdout",
     "output_type": "stream",
     "text": [
      "message sended...\n"
     ]
    }
   ],
   "source": [
    "\n",
    "\n",
    "\n",
    "import json\n",
    "import requests\n",
    "\n",
    "fileName = 'c:/anyang/kakao_token.json'\n",
    "with open(fileName, 'r') as fin:\n",
    "    tokens = json.load(fin)\n",
    "\n",
    "url = 'https://kapi.kakao.com/v2/api/talk/memo/default/send'\n",
    "headers = {\n",
    "        'Authorization' : 'Bearer ' + tokens['access_token']\n",
    "}\n",
    "\n",
    "data = {\n",
    "    \"template_object\" : json.dumps({\n",
    "        \"object_type\": \"list\",\n",
    "        \"header_title\": \"WEEKELY MAGAZINE\",\n",
    "        \"header_link\": {\n",
    "            \"web_url\": \"http://www.daum.net\",\n",
    "            \"mobile_web_url\": \"http://m.daum.net\",\n",
    "            \"android_execution_params\": \"main\",\n",
    "            \"ios_execution_params\": \"main\"\n",
    "        },\n",
    "        \"contents\": [\n",
    "            {\n",
    "                \"title\": \"자전거 라이더를 위한 공간\",\n",
    "                \"description\": \"매거진\",\n",
    "                \"image_url\": \"https://mud-kage.kakao.com/dn/QNvGY/btqfD0SKT9m/k4KUlb1m0dKPHxGV8WbIK1/openlink_640x640s.jpg\",\n",
    "                \"image_width\": 640,\n",
    "                \"image_height\": 640,\n",
    "                \"link\": {\n",
    "                    \"web_url\": \"http://www.daum.net/contents/1\",\n",
    "                    \"mobile_web_url\": \"http://m.daum.net/contents/1\",\n",
    "                    \"android_execution_params\": \"/contents/1\",\n",
    "                    \"ios_execution_params\": \"/contents/1\"\n",
    "                }\n",
    "            },\n",
    "            {\n",
    "                \"title\": \"비쥬얼이 끝내주는 오레오 카푸치노\",\n",
    "                \"description\": \"매거진\",\n",
    "                \"image_url\": \"https://mud-kage.kakao.com/dn/boVWEm/btqfFGlOpJB/mKsq9z6U2Xpms3NztZgiD1/openlink_640x640s.jpg\",\n",
    "                \"image_width\": 640,\n",
    "                \"image_height\": 640,\n",
    "                \"link\": {\n",
    "                    \"web_url\": \"http://www.daum.net/contents/2\",\n",
    "                    \"mobile_web_url\": \"http://m.daum.net/contents/2\",\n",
    "                    \"android_execution_params\": \"/contents/2\",\n",
    "                    \"ios_execution_params\": \"/contents/2\"\n",
    "                }\n",
    "            },\n",
    "            {\n",
    "                \"title\": \"감성이 가득한 분위기\",\n",
    "                \"description\": \"매거진\",\n",
    "                \"image_url\": \"https://mud-kage.kakao.com/dn/NTmhS/btqfEUdFAUf/FjKzkZsnoeE4o19klTOVI1/openlink_640x640s.jpg\",\n",
    "                \"image_width\": 640,\n",
    "                \"image_height\": 640,\n",
    "                \"link\": {\n",
    "                    \"web_url\": \"http://www.daum.net/contents/3\",\n",
    "                    \"mobile_web_url\": \"http://m.daum.net/contents/3\",\n",
    "                    \"android_execution_params\": \"/contents/3\",\n",
    "                    \"ios_execution_params\": \"/contents/3\"\n",
    "                }\n",
    "            }\n",
    "        ],\n",
    "        \"buttons\": [\n",
    "            {\n",
    "                \"title\": \"웹으로 이동\",\n",
    "                \"link\": {\n",
    "                    \"web_url\": \"http://www.daum.net\",\n",
    "                    \"mobile_web_url\": \"http://m.daum.net\"\n",
    "                }\n",
    "            },\n",
    "            {\n",
    "                \"title\": \"앱으로 이동\",\n",
    "                \"link\": {\n",
    "                    \"android_execution_params\": \"main\",\n",
    "                    \"ios_execution_params\": \"main\"\n",
    "                }\n",
    "            }\n",
    "        ]\n",
    "    })\n",
    "}\n",
    "\n",
    "response = requests.post(url, headers=headers, data=data)\n",
    "if response.status_code == 200:\n",
    "    print('message sended...')\n",
    "else:\n",
    "    print(response)"
   ]
  },
  {
   "cell_type": "code",
   "execution_count": null,
   "id": "f22d9f48-9a3a-4f55-b590-b4a94411450c",
   "metadata": {},
   "outputs": [],
   "source": []
  }
 ],
 "metadata": {
  "kernelspec": {
   "display_name": "Python 3 (ipykernel)",
   "language": "python",
   "name": "python3"
  },
  "language_info": {
   "codemirror_mode": {
    "name": "ipython",
    "version": 3
   },
   "file_extension": ".py",
   "mimetype": "text/x-python",
   "name": "python",
   "nbconvert_exporter": "python",
   "pygments_lexer": "ipython3",
   "version": "3.12.4"
  }
 },
 "nbformat": 4,
 "nbformat_minor": 5
}
